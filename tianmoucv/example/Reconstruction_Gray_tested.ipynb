{
 "cells": [
  {
   "cell_type": "code",
   "execution_count": null,
   "metadata": {},
   "outputs": [],
   "source": [
    "%load_ext autoreload"
   ]
  },
  {
   "cell_type": "code",
   "execution_count": null,
   "metadata": {},
   "outputs": [],
   "source": [
    "!ls /data/taoyi/dataset/Lyncam/school/zhuanpan"
   ]
  },
  {
   "cell_type": "markdown",
   "metadata": {},
   "source": [
    "# 引入必要的库"
   ]
  },
  {
   "cell_type": "code",
   "execution_count": null,
   "metadata": {
    "scrolled": true
   },
   "outputs": [],
   "source": [
    "%autoreload\n",
    "import sys,os\n",
    "import numpy as np\n",
    "import matplotlib.pyplot as plt\n",
    "from tianmoucv.isp import fourdirection2xy,poisson_blend\n",
    "import torch\n",
    "from tianmoucv.data import TianmoucDataReader_pcie\n",
    "\n",
    "extra_data = ['/data/taoyi/dataset/Lyncam/2023_02_16_zy/flicker/']\n",
    "extra_data = ['/data/taoyi/dataset/Lyncam/school/zhuanpan/leinao/2b_10000fps_6klux']\n",
    "extra_data = ['/data/taoyi/dataset/Lyncam/driving_dataset/20230522/']\n",
    "extra_data = ['/data/taoyi/dataset/Lyncam/driving_dataset/20230523/']\n",
    "extra_data = ['/data/taoyi/dataset/Lyncam/school/zhuanpan/leinao/4b_3030fps_6klux_th1/']\n",
    "extra_data = ['/data/taoyi/dataset/Lyncam/school/zhuanpan/leinao/8b_1515fps_6klux_th0']\n",
    "extra_data = ['/data/taoyi/dataset/Lyncam/school/zhuanpan']\n",
    "extra_data = ['/data/taoyi/dataset/Lyncam/school/zhuanpan/leinao/8b_750fps_6klux_th0']\n",
    "import torch.nn.functional as F\n",
    "import cv2\n",
    "\n",
    "\n",
    "key = 'openroad1'\n",
    "key = \"openroad4\"\n",
    "key = \"3000rpm\"\n",
    "key = \"200rpm\"\n",
    "key = 'flicker2_90cop'\n",
    "key = '2b_10000fps_230925_3000rpm'\n",
    "key = \"300rpm\"\n",
    "\n",
    "speedUpRate = 1\n",
    "dataset = TianmoucDataReader_pcie(extra_data,MAXLEN=500*speedUpRate,ifSaveFileDict = False,rod_adc_bit=8,cameraMode=0,\n",
    "                              matchkey=key,speedUpRate=speedUpRate)\n",
    "\n",
    "dataLoader = torch.utils.data.DataLoader(dataset, batch_size=1,\\\n",
    "                                          num_workers=4, pin_memory=False, drop_last = False)\n",
    "\n",
    "count = 0\n",
    "torchmean = 0"
   ]
  },
  {
   "cell_type": "markdown",
   "metadata": {},
   "source": [
    "# 融合图像"
   ]
  },
  {
   "cell_type": "code",
   "execution_count": null,
   "metadata": {
    "scrolled": true
   },
   "outputs": [],
   "source": [
    "%autoreload\n",
    "import torch.nn as nn\n",
    "import math\n",
    "from tianmoucv.reconstructor.integration import grayReconstructor\n",
    "\n",
    "\n",
    "\n",
    "MSE_LossFn = nn.MSELoss()\n",
    "speedUpRate = 1\n",
    "\n",
    "\n",
    "def images_to_video(frame_list,name,size=(640,320),Flip=False):\n",
    "    fps = 25        \n",
    "    ftmax = max([np.max(ft) for ft in frame_list])\n",
    "    ftmin = min([np.min(ft) for ft in frame_list])\n",
    "    out = cv2.VideoWriter(name,0x7634706d , fps, size)\n",
    "    for ft in frame_list:\n",
    "        ft = (ft-ftmin)/(ftmax-ftmin)\n",
    "        ft2 = (ft*255).astype(np.uint8)\n",
    "        out.write(ft2)\n",
    "    out.release()\n",
    "\n",
    "psnrcount =0\n",
    "count = 0\n",
    "\n",
    "key_list = [\"300rpm\"]\n",
    "\n",
    "for key in key_list:\n",
    "    dataset = TianmoucDataReader_pcie(extra_data,MAXLEN=500*speedUpRate,ifSaveFileDict = False,rod_adc_bit=8,cameraMode=0,\n",
    "                              matchkey=key,speedUpRate=speedUpRate)\n",
    "    dataLoader = torch.utils.data.DataLoader(dataset, batch_size=1,\\\n",
    "                                          num_workers=4, pin_memory=False, drop_last = False)\n",
    "\n",
    "    PSNR = 0\n",
    "    img_list = []\n",
    "    for index,sample in enumerate(dataLoader,0):\n",
    "        if index<0:\n",
    "            continue\n",
    "        if index<= 20:\n",
    "            psnrcount += 1\n",
    "            F0 = sample['F0_HDR'][0,...]\n",
    "            F1 = sample['F1_HDR'][0,...]\n",
    "            gray1 = torch.mean(F1,dim=-1)\n",
    "            gray0 = torch.mean(F0,dim=-1)\n",
    "\n",
    "            for t in range(sample['rawDiff'].size(2)):\n",
    "\n",
    "                tsdiff = sample['rawDiff'][0,...]/255.0\n",
    "                hdr = grayReconstructor(tsdiff,F0,F1,t,TDnoise=0,threshGate=0/255.0)\n",
    "                hdr = hdr.numpy()\n",
    "                hdr_show = np.stack([hdr]*3,axis=-1)                \n",
    "                SD = tsdiff[1:,t,...].permute(1,2,0)\n",
    "                Ix,Iy= fourdirection2xy(SD)\n",
    "                gray = poisson_blend(-Ix,-Iy,iteration=20)\n",
    "                gray = F.interpolate(torch.Tensor(gray).unsqueeze(0).unsqueeze(0), size=(320,640), mode='bilinear').squeeze(0).squeeze(0)\n",
    "        \n",
    "                if t==12:\n",
    "                    plt.figure(figsize=(18,6))\n",
    "                    plt.subplot(1,3,1)  \n",
    "                    plt.imshow(gray0,cmap='gray')\n",
    "                    plt.subplot(1,3,2)  \n",
    "                    plt.imshow(hdr_show)\n",
    "                    plt.subplot(1,3,3)  \n",
    "                    plt.imshow(gray,cmap='gray')\n",
    "                    plt.show()\n",
    "                    \n",
    "                if t==25:\n",
    "                    MSE_val = MSE_LossFn(torch.Tensor(hdr), gray1) \n",
    "                    PSNR += (10 * math.log10(1 / MSE_val.item()))\n",
    "                    print(\"PSNR:\",PSNR/psnrcount,'dB')\n",
    "                img_list.append(hdr_show)\n",
    "        else:\n",
    "            break\n",
    "    \n",
    "    images_to_video(img_list,'../rebuttal/reconstruction/data/result/Direct_'+key+'.mp4')"
   ]
  },
  {
   "cell_type": "code",
   "execution_count": null,
   "metadata": {},
   "outputs": [],
   "source": [
    "images_to_video(img_list,'../rebuttal/reconstruction/data/result/Direct_'+key+'.mp4')"
   ]
  }
 ],
 "metadata": {
  "kernelspec": {
   "display_name": "Python [conda env:deepseed]",
   "language": "python",
   "name": "conda-env-deepseed-py"
  },
  "language_info": {
   "codemirror_mode": {
    "name": "ipython",
    "version": 3
   },
   "file_extension": ".py",
   "mimetype": "text/x-python",
   "name": "python",
   "nbconvert_exporter": "python",
   "pygments_lexer": "ipython3",
   "version": "3.9.12"
  }
 },
 "nbformat": 4,
 "nbformat_minor": 5
}
